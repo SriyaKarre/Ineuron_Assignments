{
  "cells": [
    {
      "cell_type": "markdown",
      "metadata": {
        "id": "view-in-github",
        "colab_type": "text"
      },
      "source": [
        "<a href=\"https://colab.research.google.com/github/SriyaKarre/Ineuron_Assignments/blob/main/assignment_4_ineuron.ipynb\" target=\"_parent\"><img src=\"https://colab.research.google.com/assets/colab-badge.svg\" alt=\"Open In Colab\"/></a>"
      ]
    },
    {
      "cell_type": "markdown",
      "id": "0c9b0a75",
      "metadata": {
        "id": "0c9b0a75"
      },
      "source": [
        "1.What exactly is []?\n",
        "\n",
        "Ans.The empty list value, which is a list value that contains no items."
      ]
    },
    {
      "cell_type": "markdown",
      "id": "c4d75048",
      "metadata": {
        "id": "c4d75048"
      },
      "source": [
        "2. In a list of values stored in a variable called spam, how would you assign the value &#39;hello&#39; as the\n",
        "third value? (Assume [2, 4, 6, 8, 10] are in spam.)"
      ]
    },
    {
      "cell_type": "code",
      "execution_count": null,
      "id": "835865c8",
      "metadata": {
        "id": "835865c8",
        "outputId": "2cf6b631-1c9a-49ad-aecc-02f64e45dd64"
      },
      "outputs": [
        {
          "data": {
            "text/plain": [
              "[2, 4, 'hello', 8, 10]"
            ]
          },
          "execution_count": 1,
          "metadata": {},
          "output_type": "execute_result"
        }
      ],
      "source": [
        "# solution by changing the value in index 3\n",
        "spam = [2, 4, 6, 8, 10]\n",
        "spam[2] = 'hello'\n",
        "spam"
      ]
    },
    {
      "cell_type": "markdown",
      "id": "4a5637dd",
      "metadata": {
        "id": "4a5637dd"
      },
      "source": [
        "Let's pretend the spam includes the list ['a','b','c','d'] for the next three queries."
      ]
    },
    {
      "cell_type": "markdown",
      "id": "ffecb8ec",
      "metadata": {
        "id": "ffecb8ec"
      },
      "source": [
        "3.What is the value of spam[int(int(3 * 2) / 11)]?"
      ]
    },
    {
      "cell_type": "code",
      "execution_count": null,
      "id": "f458730c",
      "metadata": {
        "id": "f458730c",
        "outputId": "1f4bde51-ee13-4084-ca64-0462ac911cd1"
      },
      "outputs": [
        {
          "data": {
            "text/plain": [
              "'d'"
            ]
          },
          "execution_count": 2,
          "metadata": {},
          "output_type": "execute_result"
        }
      ],
      "source": [
        "spam = ['a', 'b','c','d']\n",
        "spam[int(int('3' * 2) / 11)] # spam[int(33/11)] = spam[3]"
      ]
    },
    {
      "cell_type": "markdown",
      "id": "b47939b4",
      "metadata": {
        "id": "b47939b4"
      },
      "source": [
        "4.What is the value of spam[-1]?"
      ]
    },
    {
      "cell_type": "code",
      "execution_count": null,
      "id": "17c01774",
      "metadata": {
        "id": "17c01774",
        "outputId": "b309fd6c-22c2-452d-d602-0bb84d836c31"
      },
      "outputs": [
        {
          "data": {
            "text/plain": [
              "'d'"
            ]
          },
          "execution_count": 3,
          "metadata": {},
          "output_type": "execute_result"
        }
      ],
      "source": [
        "spam = ['a', 'b','c','d']\n",
        "spam[-1] # negative index # d"
      ]
    },
    {
      "cell_type": "markdown",
      "id": "a756b07d",
      "metadata": {
        "id": "a756b07d"
      },
      "source": [
        "5.What is the value of spam[:2]?"
      ]
    },
    {
      "cell_type": "code",
      "execution_count": null,
      "id": "5b894307",
      "metadata": {
        "id": "5b894307",
        "outputId": "32c6a520-1e66-4872-ece8-09843ddb05e4"
      },
      "outputs": [
        {
          "data": {
            "text/plain": [
              "['a', 'b']"
            ]
          },
          "execution_count": 4,
          "metadata": {},
          "output_type": "execute_result"
        }
      ],
      "source": [
        "spam[:2] # c"
      ]
    },
    {
      "cell_type": "markdown",
      "id": "0d1d97ce",
      "metadata": {
        "id": "0d1d97ce"
      },
      "source": [
        "*Let's pretend bacon has the list [3.14, 'cat' 11, 'cat' True] for the next three questions.*"
      ]
    },
    {
      "cell_type": "markdown",
      "id": "92755c8c",
      "metadata": {
        "id": "92755c8c"
      },
      "source": [
        "6.What is the value of bacon.index('cat')?"
      ]
    },
    {
      "cell_type": "code",
      "execution_count": null,
      "id": "b98e5f0b",
      "metadata": {
        "id": "b98e5f0b",
        "outputId": "b2a4c341-ddb0-4268-d507-6454b822332a"
      },
      "outputs": [
        {
          "data": {
            "text/plain": [
              "1"
            ]
          },
          "execution_count": 6,
          "metadata": {},
          "output_type": "execute_result"
        }
      ],
      "source": [
        "bacon = [3.14, 'cat', 11, 'cat', True]\n",
        "bacon.index('cat') # it returns the index of first occurrence of 'cat'"
      ]
    },
    {
      "cell_type": "markdown",
      "id": "30200b33",
      "metadata": {
        "id": "30200b33"
      },
      "source": [
        "7.How does bacon.append(99) change the look of the list value in bacon?"
      ]
    },
    {
      "cell_type": "code",
      "execution_count": null,
      "id": "5c1b630e",
      "metadata": {
        "id": "5c1b630e",
        "outputId": "d51d2664-3f51-43f8-b9e0-e4fe1b5294e2"
      },
      "outputs": [
        {
          "data": {
            "text/plain": [
              "[3.14, 'cat', 11, 'cat', True, 99]"
            ]
          },
          "execution_count": 7,
          "metadata": {},
          "output_type": "execute_result"
        }
      ],
      "source": [
        "bacon = [3.14, 'cat', 11, 'cat', True]\n",
        "bacon.append(99) # append adds the item at the end of the list\n",
        "bacon\n",
        "     "
      ]
    },
    {
      "cell_type": "markdown",
      "id": "b6842810",
      "metadata": {
        "id": "b6842810"
      },
      "source": [
        "8.How does bacon.remove('cat') change the look of the list in bacon?"
      ]
    },
    {
      "cell_type": "code",
      "execution_count": null,
      "id": "466793d7",
      "metadata": {
        "id": "466793d7",
        "outputId": "98d8c731-673e-4f66-d4ca-13de9dcdc7c6"
      },
      "outputs": [
        {
          "data": {
            "text/plain": [
              "[3.14, 11, 'cat', True]"
            ]
          },
          "execution_count": 12,
          "metadata": {},
          "output_type": "execute_result"
        }
      ],
      "source": [
        "bacon = [3.14, 'cat', 11, 'cat', True]\n",
        "bacon.remove('cat') # remove first occurrence of item\n",
        "bacon\n",
        "     "
      ]
    },
    {
      "cell_type": "markdown",
      "id": "df7fcec3",
      "metadata": {
        "id": "df7fcec3"
      },
      "source": [
        "9.What are the list concatenation and list replication operators?"
      ]
    },
    {
      "cell_type": "markdown",
      "id": "b7e17e85",
      "metadata": {
        "id": "b7e17e85"
      },
      "source": [
        "Ans.( * ) is list replication operator ( + ) is list concatination operator"
      ]
    },
    {
      "cell_type": "code",
      "execution_count": null,
      "id": "0af1acfa",
      "metadata": {
        "id": "0af1acfa",
        "outputId": "189746a5-aba5-4057-ae94-c52ce0073640"
      },
      "outputs": [
        {
          "data": {
            "text/plain": [
              "[1, 4, 2, 5]"
            ]
          },
          "execution_count": 10,
          "metadata": {},
          "output_type": "execute_result"
        }
      ],
      "source": [
        "l1 = [1,4]\n",
        "l2 = [2,5]\n",
        "# list concatination\n",
        "l1+l2\n",
        "     "
      ]
    },
    {
      "cell_type": "code",
      "execution_count": null,
      "id": "599cb6c9",
      "metadata": {
        "id": "599cb6c9",
        "outputId": "39a89afc-7491-4d14-ee16-c7a171920ef1"
      },
      "outputs": [
        {
          "data": {
            "text/plain": [
              "[7, 4, 7, 4, 7, 4]"
            ]
          },
          "execution_count": 11,
          "metadata": {},
          "output_type": "execute_result"
        }
      ],
      "source": [
        "l1 = [7,4]\n",
        "\n",
        "# list replication\n",
        "l1*3"
      ]
    },
    {
      "cell_type": "markdown",
      "id": "351d24e5",
      "metadata": {
        "id": "351d24e5"
      },
      "source": [
        "10.What is difference between the list methods append() and insert()?\n"
      ]
    },
    {
      "cell_type": "markdown",
      "id": "9d2014e6",
      "metadata": {
        "id": "9d2014e6"
      },
      "source": [
        "Ans.append() Appends object to the end of the list\n",
        "insert() Insert object before index"
      ]
    },
    {
      "cell_type": "code",
      "execution_count": null,
      "id": "699f6732",
      "metadata": {
        "id": "699f6732",
        "outputId": "d28ca212-c67d-4283-85a2-9f4e660c9925"
      },
      "outputs": [
        {
          "data": {
            "text/plain": [
              "[3.14, 'cat', 11, 'cat', True, 99]"
            ]
          },
          "execution_count": 13,
          "metadata": {},
          "output_type": "execute_result"
        }
      ],
      "source": [
        "bacon = [3.14, 'cat', 11, 'cat', True]\n",
        "bacon.append(99) # append adds the item at the end of the list\n",
        "bacon"
      ]
    },
    {
      "cell_type": "code",
      "execution_count": null,
      "id": "1b91a6d3",
      "metadata": {
        "id": "1b91a6d3",
        "outputId": "8f15c740-777c-44f6-d6e5-c3790467ec32"
      },
      "outputs": [
        {
          "data": {
            "text/plain": [
              "[2, 4, 'hello', 6, 8, 10]"
            ]
          },
          "execution_count": 14,
          "metadata": {},
          "output_type": "execute_result"
        }
      ],
      "source": [
        "# solution by inserting value in 3rd index\n",
        "spam = [2, 4, 6, 8, 10]\n",
        "spam.insert(2,'hello')\n",
        "spam"
      ]
    },
    {
      "cell_type": "markdown",
      "id": "9b432b78",
      "metadata": {
        "id": "9b432b78"
      },
      "source": [
        "11.What are the two methods for removing items from a list?"
      ]
    },
    {
      "cell_type": "code",
      "execution_count": null,
      "id": "c54c24d7",
      "metadata": {
        "id": "c54c24d7",
        "outputId": "954bc020-e4b6-4b0d-b557-692b4774a08e"
      },
      "outputs": [
        {
          "data": {
            "text/plain": [
              "[3.14, 11, 'cat', True]"
            ]
          },
          "execution_count": 16,
          "metadata": {},
          "output_type": "execute_result"
        }
      ],
      "source": [
        "#remove(item) - removeds first occurence of a item\n",
        "bacon = [3.14, 'cat', 11, 'cat', True]\n",
        "bacon.remove('cat')\n",
        "bacon\n",
        "     "
      ]
    },
    {
      "cell_type": "code",
      "execution_count": null,
      "id": "895dd662",
      "metadata": {
        "id": "895dd662",
        "outputId": "d092bcfe-368e-4169-b918-fef747e97ada"
      },
      "outputs": [
        {
          "data": {
            "text/plain": [
              "[3.14, 'cat', 11, 'cat']"
            ]
          },
          "execution_count": 17,
          "metadata": {},
          "output_type": "execute_result"
        }
      ],
      "source": [
        "#pop() - Remove and returns item at index (default last).\n",
        "bacon = [3.14, 'cat', 11, 'cat', True]\n",
        "bacon.pop()\n",
        "bacon"
      ]
    },
    {
      "cell_type": "markdown",
      "id": "3c077944",
      "metadata": {
        "id": "3c077944"
      },
      "source": [
        "12.Describe how list values and string values are identical.\n",
        "\n",
        "Ans.\n",
        "1.Both lists and strings can be passed to len()\n",
        "2.Have indexes and slices\n",
        "3.Can be used in for loops\n",
        "4.Can be concatenated or replicated\n",
        "5.Can be used with the in and not in operators"
      ]
    },
    {
      "cell_type": "markdown",
      "id": "57645d61",
      "metadata": {
        "id": "57645d61"
      },
      "source": [
        "13.What's the difference between tuples and lists?\n",
        "\n",
        "Ans.Lists : are mutable - they can have values added, removed, or changed. lists use the square brackets, [ and ]\n",
        "Tuples : are immutable; they cannot be changed at all. Tuples are written using parentheses, ( and )"
      ]
    },
    {
      "cell_type": "markdown",
      "id": "04f2db91",
      "metadata": {
        "id": "04f2db91"
      },
      "source": [
        "14.How do you type a tuple value that only contains the integer 42?"
      ]
    },
    {
      "cell_type": "code",
      "execution_count": null,
      "id": "d167dec6",
      "metadata": {
        "id": "d167dec6",
        "outputId": "85721a15-dfa5-4c2d-959d-cc89b7199e10"
      },
      "outputs": [
        {
          "data": {
            "text/plain": [
              "(42,)"
            ]
          },
          "execution_count": 18,
          "metadata": {},
          "output_type": "execute_result"
        }
      ],
      "source": [
        "tuple = (42,)\n",
        "tuple"
      ]
    },
    {
      "cell_type": "markdown",
      "id": "daf502c9",
      "metadata": {
        "id": "daf502c9"
      },
      "source": [
        "15.How do you get a list value's tuple form? How do you get a tuple value's list form?"
      ]
    },
    {
      "cell_type": "code",
      "execution_count": null,
      "id": "afbc093e",
      "metadata": {
        "id": "afbc093e",
        "outputId": "f6423058-5b48-45bd-847a-282babe89032"
      },
      "outputs": [
        {
          "data": {
            "text/plain": [
              "(2, 3)"
            ]
          },
          "execution_count": 3,
          "metadata": {},
          "output_type": "execute_result"
        }
      ],
      "source": [
        "l1 = [2,3]\n",
        "l = tuple(l1)\n",
        "\n",
        "l"
      ]
    },
    {
      "cell_type": "code",
      "execution_count": null,
      "id": "e159ec42",
      "metadata": {
        "id": "e159ec42",
        "outputId": "7d387bbe-35ec-47d5-a398-3be68d016d9c"
      },
      "outputs": [
        {
          "data": {
            "text/plain": [
              "[3, 4]"
            ]
          },
          "execution_count": 4,
          "metadata": {},
          "output_type": "execute_result"
        }
      ],
      "source": [
        "t1 = (3,4)\n",
        "t = list(t1)\n",
        "t"
      ]
    },
    {
      "cell_type": "markdown",
      "id": "e37629fa",
      "metadata": {
        "id": "e37629fa"
      },
      "source": [
        "16.Variables that \"contain\" list values are not necessarily lists themselves. Instead, what do they contain?\n",
        "\n",
        "Ans. They contain references to list values"
      ]
    },
    {
      "cell_type": "markdown",
      "id": "ca373745",
      "metadata": {
        "id": "ca373745"
      },
      "source": [
        "17.How do you distinguish between copy.copy() and copy.deepcopy()?\n",
        "\n",
        "\n",
        "Ans . The copy.copy() function will do a shallow copy of a list,\n",
        "The copy.deepcopy() function will do a deep copy of a list. only copy.deepcopy() will duplicate any lists inside the list"
      ]
    },
    {
      "cell_type": "code",
      "execution_count": null,
      "id": "b26c446b",
      "metadata": {
        "id": "b26c446b"
      },
      "outputs": [],
      "source": []
    }
  ],
  "metadata": {
    "kernelspec": {
      "display_name": "Python 3 (ipykernel)",
      "language": "python",
      "name": "python3"
    },
    "language_info": {
      "codemirror_mode": {
        "name": "ipython",
        "version": 3
      },
      "file_extension": ".py",
      "mimetype": "text/x-python",
      "name": "python",
      "nbconvert_exporter": "python",
      "pygments_lexer": "ipython3",
      "version": "3.9.7"
    },
    "colab": {
      "provenance": [],
      "include_colab_link": true
    }
  },
  "nbformat": 4,
  "nbformat_minor": 5
}